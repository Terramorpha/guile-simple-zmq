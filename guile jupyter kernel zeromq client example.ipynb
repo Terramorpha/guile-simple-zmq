{
 "cells": [
  {
   "cell_type": "code",
   "execution_count": 1,
   "metadata": {},
   "outputs": [],
   "source": [
    "(use-modules (simple-zmq))"
   ]
  },
  {
   "cell_type": "code",
   "execution_count": 2,
   "metadata": {},
   "outputs": [],
   "source": [
    "(define context (zmq-create-context))\n",
    "(define socket (zmq-create-socket context ZMQ_REQ))"
   ]
  },
  {
   "cell_type": "code",
   "execution_count": 3,
   "metadata": {},
   "outputs": [],
   "source": [
    "(zmq-connect socket \"tcp://127.0.0.1:5555\")"
   ]
  },
  {
   "cell_type": "code",
   "execution_count": 10,
   "metadata": {},
   "outputs": [
    {
     "data": {
      "text/plain": [
       "#vu8(72 105 33 45 62 52) Hi!->4\n",
       "#vu8(72 105 33 45 62 57) Hi!->9\n",
       "#vu8(72 105 33 45 62 49 54) Hi!->16\n",
       "#vu8(72 105 33 45 62 50 53) Hi!->25\n",
       "#vu8(72 105 33 45 62 51 54) Hi!->36\n",
       "#vu8(72 105 33 45 62 52 57) Hi!->49\n",
       "#vu8(72 105 33 45 62 54 52) Hi!->64\n",
       "#vu8(72 105 33 45 62 56 49) Hi!->81\n",
       "#vu8(72 105 33 45 62 49 48 48) Hi!->100\n",
       "#vu8(72 105 33 45 62 49) Hi!->1\n"
      ]
     },
     "execution_count": 10,
     "metadata": {},
     "output_type": "execute_result"
    }
   ],
   "source": [
    "(define lst '())\n",
    "(do ((i 1 (1+ i)))\n",
    "    ((> i 10))\n",
    "    (begin\n",
    "     (zmq-send socket \"Hi!\")\n",
    "     (let ((msg (zmq-receive-bytevector socket 100)))\n",
    "       (display msg)\n",
    "       (display \" \")\n",
    "       (display (bv->string msg))\n",
    "       (display \"\\n\")\n",
    "       (set! lst (cons msg lst)))))"
   ]
  },
  {
   "cell_type": "code",
   "execution_count": null,
   "metadata": {},
   "outputs": [],
   "source": []
  }
 ],
 "metadata": {
  "kernelspec": {
   "display_name": "Guile",
   "language": "scheme",
   "name": "guile"
  },
  "language_info": {
   "codemirror_mode": "scheme",
   "file_extension": ".scm",
   "mimetype": "application/x-scheme",
   "name": "guile",
   "pygments_lexer": "scheme",
   "version": "2.0.0"
  }
 },
 "nbformat": 4,
 "nbformat_minor": 2
}
